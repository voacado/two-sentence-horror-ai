{
 "cells": [
  {
   "cell_type": "code",
   "execution_count": 23,
   "metadata": {},
   "outputs": [],
   "source": [
    "# Imports\n",
    "\n",
    "import matplotlib.pyplot as plt\n",
    "import pandas as pd\n",
    "import numpy as np\n",
    "import re"
   ]
  },
  {
   "cell_type": "code",
   "execution_count": 24,
   "metadata": {},
   "outputs": [
    {
     "name": "stdout",
     "output_type": "stream",
     "text": [
      "Num rows: 107501\n"
     ]
    },
    {
     "name": "stderr",
     "output_type": "stream",
     "text": [
      "/var/folders/7l/ksf250vx2zn5dv30k429zj6m0000gn/T/ipykernel_64691/1734441779.py:7: DtypeWarning: Columns (0,5) have mixed types. Specify dtype option on import or set low_memory=False.\n",
      "  df = pd.read_csv(path)\n"
     ]
    },
    {
     "data": {
      "text/html": [
       "<div>\n",
       "<style scoped>\n",
       "    .dataframe tbody tr th:only-of-type {\n",
       "        vertical-align: middle;\n",
       "    }\n",
       "\n",
       "    .dataframe tbody tr th {\n",
       "        vertical-align: top;\n",
       "    }\n",
       "\n",
       "    .dataframe thead th {\n",
       "        text-align: right;\n",
       "    }\n",
       "</style>\n",
       "<table border=\"1\" class=\"dataframe\">\n",
       "  <thead>\n",
       "    <tr style=\"text-align: right;\">\n",
       "      <th></th>\n",
       "      <th>Unnamed: 0</th>\n",
       "      <th>title</th>\n",
       "      <th>selftext</th>\n",
       "      <th>score</th>\n",
       "      <th>num_comments</th>\n",
       "      <th>gilded_count</th>\n",
       "      <th>date</th>\n",
       "      <th>timestamp</th>\n",
       "    </tr>\n",
       "  </thead>\n",
       "  <tbody>\n",
       "    <tr>\n",
       "      <th>0</th>\n",
       "      <td>0</td>\n",
       "      <td>Screaming down a well late at night is a dange...</td>\n",
       "      <td>NaN</td>\n",
       "      <td>43.0</td>\n",
       "      <td>0.0</td>\n",
       "      <td>0</td>\n",
       "      <td>1.423852e+09</td>\n",
       "      <td>2015-02-13 18:19:12</td>\n",
       "    </tr>\n",
       "    <tr>\n",
       "      <th>1</th>\n",
       "      <td>1</td>\n",
       "      <td>\"Do not expose any part of your body to the air.\"</td>\n",
       "      <td>\"I repeat..this is not a drill..\"</td>\n",
       "      <td>65.0</td>\n",
       "      <td>5.0</td>\n",
       "      <td>0</td>\n",
       "      <td>1.428090e+09</td>\n",
       "      <td>2015-04-03 19:47:13</td>\n",
       "    </tr>\n",
       "    <tr>\n",
       "      <th>2</th>\n",
       "      <td>2</td>\n",
       "      <td>I sometimes remember the way he looked, broken...</td>\n",
       "      <td>I neglected to make sure he was dead.</td>\n",
       "      <td>22.0</td>\n",
       "      <td>0.0</td>\n",
       "      <td>0</td>\n",
       "      <td>1.428235e+09</td>\n",
       "      <td>2015-04-05 11:55:10</td>\n",
       "    </tr>\n",
       "    <tr>\n",
       "      <th>3</th>\n",
       "      <td>3</td>\n",
       "      <td>I live alone on the third floor of my apartmen...</td>\n",
       "      <td>So who opens my window every night while I'm s...</td>\n",
       "      <td>35.0</td>\n",
       "      <td>3.0</td>\n",
       "      <td>0</td>\n",
       "      <td>1.428370e+09</td>\n",
       "      <td>2015-04-07 01:24:42</td>\n",
       "    </tr>\n",
       "    <tr>\n",
       "      <th>4</th>\n",
       "      <td>4</td>\n",
       "      <td>I heard the rain hitting my window, so I walke...</td>\n",
       "      <td>My window wasn't wet, but the glass was covere...</td>\n",
       "      <td>28.0</td>\n",
       "      <td>3.0</td>\n",
       "      <td>0</td>\n",
       "      <td>1.428385e+09</td>\n",
       "      <td>2015-04-07 05:40:55</td>\n",
       "    </tr>\n",
       "    <tr>\n",
       "      <th>...</th>\n",
       "      <td>...</td>\n",
       "      <td>...</td>\n",
       "      <td>...</td>\n",
       "      <td>...</td>\n",
       "      <td>...</td>\n",
       "      <td>...</td>\n",
       "      <td>...</td>\n",
       "      <td>...</td>\n",
       "    </tr>\n",
       "    <tr>\n",
       "      <th>107496</th>\n",
       "      <td>107495</td>\n",
       "      <td>As I look thru at window I see something inhumane</td>\n",
       "      <td>My reflection helps me remember how well my su...</td>\n",
       "      <td>31.0</td>\n",
       "      <td>2.0</td>\n",
       "      <td>0</td>\n",
       "      <td>1.680377e+09</td>\n",
       "      <td>2023-04-01 19:21:54</td>\n",
       "    </tr>\n",
       "    <tr>\n",
       "      <th>107497</th>\n",
       "      <td>107496</td>\n",
       "      <td>I’ve always been passionate about conspiracy t...</td>\n",
       "      <td>So when my wife had twins, I knew exactly what...</td>\n",
       "      <td>27.0</td>\n",
       "      <td>8.0</td>\n",
       "      <td>0</td>\n",
       "      <td>1.680377e+09</td>\n",
       "      <td>2023-04-01 19:24:55</td>\n",
       "    </tr>\n",
       "    <tr>\n",
       "      <th>107498</th>\n",
       "      <td>107497</td>\n",
       "      <td>\"You'll see me on the red carpet one day,\" sai...</td>\n",
       "      <td>So I paid her a surprise visit, and upon walki...</td>\n",
       "      <td>23.0</td>\n",
       "      <td>2.0</td>\n",
       "      <td>0</td>\n",
       "      <td>1.680378e+09</td>\n",
       "      <td>2023-04-01 19:38:03</td>\n",
       "    </tr>\n",
       "    <tr>\n",
       "      <th>107499</th>\n",
       "      <td>107498</td>\n",
       "      <td>I could hear my sister screaming nearby as I s...</td>\n",
       "      <td>But my heart sank when I remembered the monste...</td>\n",
       "      <td>60.0</td>\n",
       "      <td>3.0</td>\n",
       "      <td>0</td>\n",
       "      <td>1.680378e+09</td>\n",
       "      <td>2023-04-01 19:41:01</td>\n",
       "    </tr>\n",
       "    <tr>\n",
       "      <th>107500</th>\n",
       "      <td>107499</td>\n",
       "      <td>When my neighbor’s girlfriend asked for my hel...</td>\n",
       "      <td>Later when the police found parts of my neighb...</td>\n",
       "      <td>33.0</td>\n",
       "      <td>2.0</td>\n",
       "      <td>0</td>\n",
       "      <td>1.680379e+09</td>\n",
       "      <td>2023-04-01 19:54:23</td>\n",
       "    </tr>\n",
       "  </tbody>\n",
       "</table>\n",
       "<p>107501 rows × 8 columns</p>\n",
       "</div>"
      ],
      "text/plain": [
       "       Unnamed: 0                                              title  \\\n",
       "0               0  Screaming down a well late at night is a dange...   \n",
       "1               1  \"Do not expose any part of your body to the air.\"   \n",
       "2               2  I sometimes remember the way he looked, broken...   \n",
       "3               3  I live alone on the third floor of my apartmen...   \n",
       "4               4  I heard the rain hitting my window, so I walke...   \n",
       "...           ...                                                ...   \n",
       "107496     107495  As I look thru at window I see something inhumane   \n",
       "107497     107496  I’ve always been passionate about conspiracy t...   \n",
       "107498     107497  \"You'll see me on the red carpet one day,\" sai...   \n",
       "107499     107498  I could hear my sister screaming nearby as I s...   \n",
       "107500     107499  When my neighbor’s girlfriend asked for my hel...   \n",
       "\n",
       "                                                 selftext  score  \\\n",
       "0                                                     NaN   43.0   \n",
       "1                       \"I repeat..this is not a drill..\"   65.0   \n",
       "2                   I neglected to make sure he was dead.   22.0   \n",
       "3       So who opens my window every night while I'm s...   35.0   \n",
       "4       My window wasn't wet, but the glass was covere...   28.0   \n",
       "...                                                   ...    ...   \n",
       "107496  My reflection helps me remember how well my su...   31.0   \n",
       "107497  So when my wife had twins, I knew exactly what...   27.0   \n",
       "107498  So I paid her a surprise visit, and upon walki...   23.0   \n",
       "107499  But my heart sank when I remembered the monste...   60.0   \n",
       "107500  Later when the police found parts of my neighb...   33.0   \n",
       "\n",
       "        num_comments gilded_count          date            timestamp  \n",
       "0                0.0            0  1.423852e+09  2015-02-13 18:19:12  \n",
       "1                5.0            0  1.428090e+09  2015-04-03 19:47:13  \n",
       "2                0.0            0  1.428235e+09  2015-04-05 11:55:10  \n",
       "3                3.0            0  1.428370e+09  2015-04-07 01:24:42  \n",
       "4                3.0            0  1.428385e+09  2015-04-07 05:40:55  \n",
       "...              ...          ...           ...                  ...  \n",
       "107496           2.0            0  1.680377e+09  2023-04-01 19:21:54  \n",
       "107497           8.0            0  1.680377e+09  2023-04-01 19:24:55  \n",
       "107498           2.0            0  1.680378e+09  2023-04-01 19:38:03  \n",
       "107499           3.0            0  1.680378e+09  2023-04-01 19:41:01  \n",
       "107500           2.0            0  1.680379e+09  2023-04-01 19:54:23  \n",
       "\n",
       "[107501 rows x 8 columns]"
      ]
     },
     "execution_count": 24,
     "metadata": {},
     "output_type": "execute_result"
    }
   ],
   "source": [
    "# Read data from file (Parquet)\n",
    "\n",
    "# df = pd.read_parquet('dataset/reddit_scrape_20_Jan2015_timestamp.gzip')\n",
    "# path = 'dataset/reddit_scrape_20_Jan2015_timestamp.gzip'\n",
    "# path = '/Users/avocado/Developer/Projects/two-sentence-horror-lm/dataset/reddit_scrape_20_Jan2015_timestamp.gzip'\n",
    "path = 'org_reddit_scrape_20_Jan2015_timestamp.csv'\n",
    "df = pd.read_csv(path)\n",
    "print(\"Num rows:\", len(df))\n",
    "df"
   ]
  },
  {
   "cell_type": "markdown",
   "metadata": {},
   "source": [
    "# Step 1: Parsing (Remove posts or text from posts containing keywords that aren't in stories)\n",
    "\n",
    "### Things to get rid of\n",
    "#### title:\n",
    "- [deleted by user]\n",
    "- [Announcement]\n",
    "- [ANNOUNCEMENT]\n",
    "- [Discussion]\n",
    "- [deleted]\n",
    "- [Meta]\n",
    "- [UPDATE]\n",
    "- [redacted]\n",
    "- [Repost]\n",
    "- [REPOST]\n",
    "- [WP]\n",
    "- [ Removed by Reddit ]\n",
    "- [TW-SA]\n",
    "- [TW: SA]\n",
    "\n",
    "#### selftext:\n",
    "- [removed]\n",
    "- [deleted]\n",
    "\n",
    "### Things to remove from string (not remove entire submission)\n",
    "#### Title\n",
    "- [MORPH]\n",
    "- \"[MORPH] - \"\n",
    "- [Morph]\n",
    "- \"[Morph] - \"\n",
    "- [morph]\n",
    "- \"[morph] - \"\n",
    "- [Metamorphosis]\n",
    "- [Serious]\n",
    "- [Nsfw]\n",
    "- [NSFW]\n",
    "- [MAY2020]\n",
    "- [May 2020]\n",
    "- [MAY 2020]"
   ]
  },
  {
   "cell_type": "code",
   "execution_count": 25,
   "metadata": {},
   "outputs": [
    {
     "name": "stdout",
     "output_type": "stream",
     "text": [
      "106600\n"
     ]
    }
   ],
   "source": [
    "# 1. Remove any row that has an empty cell\n",
    "# Replace empty strings with NaN\n",
    "df.replace('', np.nan, inplace=True)\n",
    "\n",
    "# Drop rows where any of the columns has NaN\n",
    "df.dropna(inplace=True)\n",
    "\n",
    "print(len(df))"
   ]
  },
  {
   "cell_type": "code",
   "execution_count": 26,
   "metadata": {},
   "outputs": [
    {
     "name": "stdout",
     "output_type": "stream",
     "text": [
      "105987\n"
     ]
    },
    {
     "name": "stderr",
     "output_type": "stream",
     "text": [
      "/var/folders/7l/ksf250vx2zn5dv30k429zj6m0000gn/T/ipykernel_64691/2441962984.py:8: UserWarning: This pattern is interpreted as a regular expression, and has match groups. To actually get the groups, use str.extract.\n",
      "  df = df[~df['title'].str.contains(pattern, regex=True)]\n"
     ]
    }
   ],
   "source": [
    "# 2. Remove specific tokens in titles that are associated with non-stories\n",
    "bad_title_tokens = ['deleted by user', 'Announcement', 'ANNOUNCEMENT', 'Discussion', 'deleted', 'Meta', 'UPDATE', 'redacted', 'Repost', 'REPOST', 'repost', 'WP', ' Removed by Reddit ', 'TW-SA', 'TW: SA', 'META', 'MOD POST']\n",
    "\n",
    "# Convert the list of bad title tokens to a regex pattern\n",
    "pattern = r'\\[\\s?(' + '|'.join(map(re.escape, bad_title_tokens)) + r')\\s?\\]'\n",
    "\n",
    "# Filter the DataFrame to keep rows that don't match the pattern\n",
    "df = df[~df['title'].str.contains(pattern, regex=True)]\n",
    "\n",
    "print(len(df))"
   ]
  },
  {
   "cell_type": "code",
   "execution_count": 27,
   "metadata": {},
   "outputs": [
    {
     "name": "stdout",
     "output_type": "stream",
     "text": [
      "95449\n"
     ]
    },
    {
     "name": "stderr",
     "output_type": "stream",
     "text": [
      "/var/folders/7l/ksf250vx2zn5dv30k429zj6m0000gn/T/ipykernel_64691/3458426278.py:8: UserWarning: This pattern is interpreted as a regular expression, and has match groups. To actually get the groups, use str.extract.\n",
      "  df = df[~df['selftext'].str.contains(pattern, regex=True)]\n"
     ]
    }
   ],
   "source": [
    "# 3. Remove specific tokens in self-texts that are associated with non-stories\n",
    "bad_selftext_tokens = ['removed', 'deleted', 'Deleted', 'Removed', 'REDACTED', 'DELETED']\n",
    "\n",
    "# Convert the list of bad title tokens to a regex pattern\n",
    "pattern = r'\\[\\s?(' + '|'.join(map(re.escape, bad_selftext_tokens)) + r')\\s?\\]'\n",
    "\n",
    "# Filter the DataFrame to keep rows that don't match the pattern\n",
    "df = df[~df['selftext'].str.contains(pattern, regex=True)]\n",
    "\n",
    "print(len(df))"
   ]
  },
  {
   "cell_type": "code",
   "execution_count": 28,
   "metadata": {},
   "outputs": [
    {
     "name": "stdout",
     "output_type": "stream",
     "text": [
      "95449\n"
     ]
    },
    {
     "name": "stderr",
     "output_type": "stream",
     "text": [
      "/var/folders/7l/ksf250vx2zn5dv30k429zj6m0000gn/T/ipykernel_64691/4064981039.py:8: UserWarning: This pattern is interpreted as a regular expression, and has match groups. To actually get the groups, use str.extract.\n",
      "  df = df[~df['title'].str.contains(pattern, regex=True)]\n"
     ]
    }
   ],
   "source": [
    "# 2.5. Remove specific tokens in titles that are invalid\n",
    "invalid_title_tokens = ['Äù', 'Ä¶', 'Äô', 'Ä', 'ù', '¶', 'ô']\n",
    "\n",
    "# Convert the list of bad title tokens to a regex pattern\n",
    "pattern = r'\\[\\s?(' + '|'.join(map(re.escape, invalid_title_tokens)) + r')\\s?\\]'\n",
    "\n",
    "# Filter the DataFrame to keep rows that don't match the pattern\n",
    "df = df[~df['title'].str.contains(pattern, regex=True)]\n",
    "\n",
    "print(len(df))"
   ]
  },
  {
   "cell_type": "code",
   "execution_count": 29,
   "metadata": {},
   "outputs": [
    {
     "name": "stdout",
     "output_type": "stream",
     "text": [
      "95449\n"
     ]
    },
    {
     "name": "stderr",
     "output_type": "stream",
     "text": [
      "/var/folders/7l/ksf250vx2zn5dv30k429zj6m0000gn/T/ipykernel_64691/718862050.py:8: UserWarning: This pattern is interpreted as a regular expression, and has match groups. To actually get the groups, use str.extract.\n",
      "  df = df[~df['selftext'].str.contains(pattern, regex=True)]\n"
     ]
    }
   ],
   "source": [
    "# 3.5. Remove specific tokens in titles that are invalid\n",
    "invalid_selftext_tokens = ['Äù', 'Ä¶', 'Äô', 'Ä', 'ù', '¶', 'ô']\n",
    "\n",
    "# Convert the list of bad title tokens to a regex pattern\n",
    "pattern = r'\\[\\s?(' + '|'.join(map(re.escape, invalid_selftext_tokens)) + r')\\s?\\]'\n",
    "\n",
    "# Filter the DataFrame to keep rows that don't match the pattern\n",
    "df = df[~df['selftext'].str.contains(pattern, regex=True)]\n",
    "\n",
    "print(len(df))"
   ]
  },
  {
   "cell_type": "code",
   "execution_count": 30,
   "metadata": {},
   "outputs": [
    {
     "name": "stdout",
     "output_type": "stream",
     "text": [
      "95449\n"
     ]
    }
   ],
   "source": [
    "# 4. Remove dates from titles\n",
    "\n",
    "# Usually, format is: \"[\" + (optional space) + month (3-char) + (optional space) + \"]\"\n",
    "df['title'] = df['title'].str.replace(r'\\[[A-Za-z]{3,4}\\d{2,4}\\]\\s?', '', regex=True)\n",
    "\n",
    "# Extended regex to month = 7 char (for ex like AUGUST, July, etc)\n",
    "df['title'] = df['title'].str.replace(r'\\[[A-Za-z]{3,7}\\s?\\d{2,4}\\]\\s?', '', regex=True)\n",
    "\n",
    "# Cases: [AUG21 ] and [JAN22 ] (notice space at end)\n",
    "df['title'] = df['title'].str.replace(r'\\[[A-Za-z]{3,7}\\s?\\d{2,4}\\s?\\]\\s?', '', regex=True)\n",
    "\n",
    "# Specific edge case: [May2020} or {Dec2020] (notice the bracket)\n",
    "df['title'] = df['title'].str.replace(r'[\\[\\{][A-Za-z]{3,7}\\s?\\d{2,4}\\s?[\\]\\}]\\s?', '', regex=True)\n",
    "\n",
    "\n",
    "# Apply to self-text as well\n",
    "# Extended regex to month = 7 char (for ex like AUGUST, July, etc)\n",
    "df['selftext'] = df['selftext'].str.replace(r'\\[[A-Za-z]{3,7}\\s?\\d{2,4}\\]\\s?', '', regex=True)\n",
    "\n",
    "print(len(df))"
   ]
  },
  {
   "cell_type": "code",
   "execution_count": 31,
   "metadata": {},
   "outputs": [
    {
     "name": "stdout",
     "output_type": "stream",
     "text": [
      "95449\n"
     ]
    }
   ],
   "source": [
    "# 5. Replace specific text with an empty string\n",
    "tag_title_tokens = ['MORPH', 'Morph', 'morph', 'Metamorphosis', 'Nsfw', 'NSFW', 'Serious', 'Updated', 'RANT', 'MILD GORE WARNING', 'JUNE2020DESERT', 'JUNE2020TUNDRA', 'JUNE2020TUNDRATEAM', 'June2020Tundra', 'Body Horror']\n",
    "\n",
    "# Convert the list of bad title tokens to a regex pattern\n",
    "pattern = r'\\[\\s?(' + '|'.join(map(re.escape, tag_title_tokens)) + r')\\s?\\]'\n",
    "\n",
    "# Use the pattern to replace the matched substrings with an empty string\n",
    "df['title'] = df['title'].str.replace(pattern, '', regex=True)\n",
    "\n",
    "print(len(df))"
   ]
  },
  {
   "cell_type": "code",
   "execution_count": 32,
   "metadata": {},
   "outputs": [
    {
     "name": "stdout",
     "output_type": "stream",
     "text": [
      "95449\n"
     ]
    }
   ],
   "source": [
    "# 6. Some titles begin with \"[\" + 1-3 digit number + \"]\", we need to replace that with an empty string\n",
    "df['title'] = df['title'].str.replace(r'\\[\\s?\\d{1,3}\\s?\\]\\s?', '', regex=True)\n",
    "\n",
    "print(len(df))"
   ]
  },
  {
   "cell_type": "code",
   "execution_count": 33,
   "metadata": {},
   "outputs": [
    {
     "name": "stdout",
     "output_type": "stream",
     "text": [
      "95261\n"
     ]
    }
   ],
   "source": [
    "# 7. Remove any titles or self-texts that contain \"http\" as the LM cannot watch and understand videos\n",
    "# 8. Also remove any reference to r/twosentencehorror (needs to learn the concept, meta reference)\n",
    "\n",
    "df = df[~(df['title'].str.contains('http', case=False) | df['selftext'].str.contains('http', case=False))]\n",
    "df = df[~(df['title'].str.contains('https', case=False) | df['selftext'].str.contains('https', case=False))]\n",
    "df = df[~(df['title'].str.contains('www', case=False) | df['selftext'].str.contains('www', case=False))]\n",
    "df = df[~(df['title'].str.contains('twosentencehorror', case=False) | df['selftext'].str.contains('twosentencehorror', case=False))]\n",
    "\n",
    "print(len(df))"
   ]
  },
  {
   "cell_type": "code",
   "execution_count": 34,
   "metadata": {},
   "outputs": [
    {
     "name": "stdout",
     "output_type": "stream",
     "text": [
      "95261\n"
     ]
    }
   ],
   "source": [
    "# 9. Remove any title or selftext beginning with \"=\"\n",
    "\n",
    "df = df[~(df['title'].str.contains('^=', case=False) | df['selftext'].str.contains('^=', case=False))]\n",
    "print(len(df))"
   ]
  },
  {
   "cell_type": "markdown",
   "metadata": {},
   "source": [
    "# Step 2: Cleanse Data of invalid values (NaN)"
   ]
  },
  {
   "cell_type": "code",
   "execution_count": 35,
   "metadata": {},
   "outputs": [],
   "source": [
    "# Remove NaN values\n",
    "df = df.dropna()\n",
    "\n",
    "# Create a boolean mask for rows to keep\n",
    "# Text contains \"&amp;#x200B;\" which is a zero-width space (tokenized incorrectly)\n",
    "mask = ~(\n",
    "    df['title'].str.contains('x200B|&amp;#x200B;', na=False) |\n",
    "    df['selftext'].str.contains('x200B|&amp;#x200B;', na=False)\n",
    ")\n",
    "\n",
    "# Apply the mask to filter the DataFrame\n",
    "df = df[mask]\n"
   ]
  },
  {
   "cell_type": "markdown",
   "metadata": {},
   "source": [
    "# Step 3: Optimize Data\n",
    "#### The average"
   ]
  },
  {
   "cell_type": "code",
   "execution_count": 36,
   "metadata": {},
   "outputs": [],
   "source": [
    "# Calculate Sequence Length\n",
    "\n",
    "token_lengths_title = df['title'].apply(lambda x: len(x.split()))\n",
    "token_lengths_selftext = df['selftext'].apply(lambda x: len(x.split()))\n"
   ]
  },
  {
   "cell_type": "code",
   "execution_count": 37,
   "metadata": {},
   "outputs": [
    {
     "data": {
      "image/png": "[encoded data removed]",
      "text/plain": [
       "<Figure size 1200x600 with 2 Axes>"
      ]
     },
     "metadata": {},
     "output_type": "display_data"
    }
   ],
   "source": [
    "# Plotting\n",
    "\n",
    "plt.figure(figsize=(12, 6))\n",
    "\n",
    "plt.subplot(1, 2, 1)\n",
    "plt.hist(token_lengths_title, bins=50, color='blue', alpha=0.7)\n",
    "plt.title('Distribution of Tokens in Title')\n",
    "plt.xlabel('Number of Tokens')\n",
    "plt.ylabel('Frequency')\n",
    "\n",
    "plt.subplot(1, 2, 2)\n",
    "plt.hist(token_lengths_selftext, bins=50, color='green', alpha=0.7)\n",
    "plt.title('Distribution of Tokens in Selftext')\n",
    "plt.xlabel('Number of Tokens')\n",
    "plt.ylabel('Frequency')\n",
    "\n",
    "plt.tight_layout()\n",
    "plt.show()"
   ]
  },
  {
   "cell_type": "code",
   "execution_count": 38,
   "metadata": {},
   "outputs": [],
   "source": [
    "# 40 tokens looks like a good cut-off amount for the number of tokens we should keep.\n",
    "# Very few posts have more than 40 tokens in either the title or selftext.\n",
    "# We can greatly reduce the amount of padding necessary as a result, and hopefully speed up training time."
   ]
  },
  {
   "cell_type": "code",
   "execution_count": 43,
   "metadata": {},
   "outputs": [],
   "source": [
    "cut_off = 40"
   ]
  },
  {
   "cell_type": "code",
   "execution_count": 44,
   "metadata": {},
   "outputs": [
    {
     "name": "stdout",
     "output_type": "stream",
     "text": [
      "Percentage of data with both title and selftext below 40 tokens: 99.76%\n"
     ]
    }
   ],
   "source": [
    "# Find rows where both title and selftext are below 100 tokens\n",
    "below_cut_off_tokens = df[(token_lengths_title < cut_off) & (token_lengths_selftext < cut_off)]\n",
    "\n",
    "# Calculate the percentage\n",
    "percentage_below_cut_off = (len(below_cut_off_tokens) / len(df)) * 100\n",
    "\n",
    "print(f\"Percentage of data with both title and selftext below 40 tokens: {percentage_below_cut_off:.2f}%\")\n"
   ]
  },
  {
   "cell_type": "code",
   "execution_count": 19,
   "metadata": {},
   "outputs": [
    {
     "name": "stdout",
     "output_type": "stream",
     "text": [
      "Full DF Size: 95204\n",
      "DF Size below 40 tokens: 94086\n"
     ]
    }
   ],
   "source": [
    "print(\"Full DF Size:\", len(df))\n",
    "print(f\"DF Size below {cut_off} tokens:\", len(below_cut_off_tokens))"
   ]
  },
  {
   "cell_type": "code",
   "execution_count": 20,
   "metadata": {},
   "outputs": [
    {
     "name": "stderr",
     "output_type": "stream",
     "text": [
      "/var/folders/7l/ksf250vx2zn5dv30k429zj6m0000gn/T/ipykernel_64691/1366232947.py:3: SettingWithCopyWarning: \n",
      "A value is trying to be set on a copy of a slice from a DataFrame\n",
      "\n",
      "See the caveats in the documentation: https://pandas.pydata.org/pandas-docs/stable/user_guide/indexing.html#returning-a-view-versus-a-copy\n",
      "  below_cut_off_tokens.drop(columns=['Unnamed: 0'], inplace=True)\n"
     ]
    }
   ],
   "source": [
    "# Drop \"Unnamed: 0\" column (index column before removing posts below cut_off tokens)\n",
    "\n",
    "below_cut_off_tokens.drop(columns=['Unnamed: 0'], inplace=True)\n",
    "below_cut_off_tokens.reset_index(drop=True, inplace=True)"
   ]
  },
  {
   "cell_type": "code",
   "execution_count": 21,
   "metadata": {},
   "outputs": [
    {
     "data": {
      "text/html": [
       "<div>\n",
       "<style scoped>\n",
       "    .dataframe tbody tr th:only-of-type {\n",
       "        vertical-align: middle;\n",
       "    }\n",
       "\n",
       "    .dataframe tbody tr th {\n",
       "        vertical-align: top;\n",
       "    }\n",
       "\n",
       "    .dataframe thead th {\n",
       "        text-align: right;\n",
       "    }\n",
       "</style>\n",
       "<table border=\"1\" class=\"dataframe\">\n",
       "  <thead>\n",
       "    <tr style=\"text-align: right;\">\n",
       "      <th></th>\n",
       "      <th>title</th>\n",
       "      <th>selftext</th>\n",
       "      <th>score</th>\n",
       "      <th>num_comments</th>\n",
       "      <th>gilded_count</th>\n",
       "      <th>date</th>\n",
       "      <th>timestamp</th>\n",
       "    </tr>\n",
       "  </thead>\n",
       "  <tbody>\n",
       "    <tr>\n",
       "      <th>0</th>\n",
       "      <td>\"Do not expose any part of your body to the air.\"</td>\n",
       "      <td>\"I repeat..this is not a drill..\"</td>\n",
       "      <td>65.0</td>\n",
       "      <td>5.0</td>\n",
       "      <td>0</td>\n",
       "      <td>1.428090e+09</td>\n",
       "      <td>2015-04-03 19:47:13</td>\n",
       "    </tr>\n",
       "    <tr>\n",
       "      <th>1</th>\n",
       "      <td>I sometimes remember the way he looked, broken...</td>\n",
       "      <td>I neglected to make sure he was dead.</td>\n",
       "      <td>22.0</td>\n",
       "      <td>0.0</td>\n",
       "      <td>0</td>\n",
       "      <td>1.428235e+09</td>\n",
       "      <td>2015-04-05 11:55:10</td>\n",
       "    </tr>\n",
       "    <tr>\n",
       "      <th>2</th>\n",
       "      <td>I live alone on the third floor of my apartmen...</td>\n",
       "      <td>So who opens my window every night while I'm s...</td>\n",
       "      <td>35.0</td>\n",
       "      <td>3.0</td>\n",
       "      <td>0</td>\n",
       "      <td>1.428370e+09</td>\n",
       "      <td>2015-04-07 01:24:42</td>\n",
       "    </tr>\n",
       "    <tr>\n",
       "      <th>3</th>\n",
       "      <td>I heard the rain hitting my window, so I walke...</td>\n",
       "      <td>My window wasn't wet, but the glass was covere...</td>\n",
       "      <td>28.0</td>\n",
       "      <td>3.0</td>\n",
       "      <td>0</td>\n",
       "      <td>1.428385e+09</td>\n",
       "      <td>2015-04-07 05:40:55</td>\n",
       "    </tr>\n",
       "    <tr>\n",
       "      <th>4</th>\n",
       "      <td>You know how sometimes your brain plays tricks...</td>\n",
       "      <td>I caught one of those things today.</td>\n",
       "      <td>84.0</td>\n",
       "      <td>6.0</td>\n",
       "      <td>0</td>\n",
       "      <td>1.428563e+09</td>\n",
       "      <td>2015-04-09 07:03:16</td>\n",
       "    </tr>\n",
       "    <tr>\n",
       "      <th>...</th>\n",
       "      <td>...</td>\n",
       "      <td>...</td>\n",
       "      <td>...</td>\n",
       "      <td>...</td>\n",
       "      <td>...</td>\n",
       "      <td>...</td>\n",
       "      <td>...</td>\n",
       "    </tr>\n",
       "    <tr>\n",
       "      <th>94081</th>\n",
       "      <td>As I look thru at window I see something inhumane</td>\n",
       "      <td>My reflection helps me remember how well my su...</td>\n",
       "      <td>31.0</td>\n",
       "      <td>2.0</td>\n",
       "      <td>0</td>\n",
       "      <td>1.680377e+09</td>\n",
       "      <td>2023-04-01 19:21:54</td>\n",
       "    </tr>\n",
       "    <tr>\n",
       "      <th>94082</th>\n",
       "      <td>I’ve always been passionate about conspiracy t...</td>\n",
       "      <td>So when my wife had twins, I knew exactly what...</td>\n",
       "      <td>27.0</td>\n",
       "      <td>8.0</td>\n",
       "      <td>0</td>\n",
       "      <td>1.680377e+09</td>\n",
       "      <td>2023-04-01 19:24:55</td>\n",
       "    </tr>\n",
       "    <tr>\n",
       "      <th>94083</th>\n",
       "      <td>\"You'll see me on the red carpet one day,\" sai...</td>\n",
       "      <td>So I paid her a surprise visit, and upon walki...</td>\n",
       "      <td>23.0</td>\n",
       "      <td>2.0</td>\n",
       "      <td>0</td>\n",
       "      <td>1.680378e+09</td>\n",
       "      <td>2023-04-01 19:38:03</td>\n",
       "    </tr>\n",
       "    <tr>\n",
       "      <th>94084</th>\n",
       "      <td>I could hear my sister screaming nearby as I s...</td>\n",
       "      <td>But my heart sank when I remembered the monste...</td>\n",
       "      <td>60.0</td>\n",
       "      <td>3.0</td>\n",
       "      <td>0</td>\n",
       "      <td>1.680378e+09</td>\n",
       "      <td>2023-04-01 19:41:01</td>\n",
       "    </tr>\n",
       "    <tr>\n",
       "      <th>94085</th>\n",
       "      <td>When my neighbor’s girlfriend asked for my hel...</td>\n",
       "      <td>Later when the police found parts of my neighb...</td>\n",
       "      <td>33.0</td>\n",
       "      <td>2.0</td>\n",
       "      <td>0</td>\n",
       "      <td>1.680379e+09</td>\n",
       "      <td>2023-04-01 19:54:23</td>\n",
       "    </tr>\n",
       "  </tbody>\n",
       "</table>\n",
       "<p>94086 rows × 7 columns</p>\n",
       "</div>"
      ],
      "text/plain": [
       "                                                   title  \\\n",
       "0      \"Do not expose any part of your body to the air.\"   \n",
       "1      I sometimes remember the way he looked, broken...   \n",
       "2      I live alone on the third floor of my apartmen...   \n",
       "3      I heard the rain hitting my window, so I walke...   \n",
       "4      You know how sometimes your brain plays tricks...   \n",
       "...                                                  ...   \n",
       "94081  As I look thru at window I see something inhumane   \n",
       "94082  I’ve always been passionate about conspiracy t...   \n",
       "94083  \"You'll see me on the red carpet one day,\" sai...   \n",
       "94084  I could hear my sister screaming nearby as I s...   \n",
       "94085  When my neighbor’s girlfriend asked for my hel...   \n",
       "\n",
       "                                                selftext  score  num_comments  \\\n",
       "0                      \"I repeat..this is not a drill..\"   65.0           5.0   \n",
       "1                  I neglected to make sure he was dead.   22.0           0.0   \n",
       "2      So who opens my window every night while I'm s...   35.0           3.0   \n",
       "3      My window wasn't wet, but the glass was covere...   28.0           3.0   \n",
       "4                    I caught one of those things today.   84.0           6.0   \n",
       "...                                                  ...    ...           ...   \n",
       "94081  My reflection helps me remember how well my su...   31.0           2.0   \n",
       "94082  So when my wife had twins, I knew exactly what...   27.0           8.0   \n",
       "94083  So I paid her a surprise visit, and upon walki...   23.0           2.0   \n",
       "94084  But my heart sank when I remembered the monste...   60.0           3.0   \n",
       "94085  Later when the police found parts of my neighb...   33.0           2.0   \n",
       "\n",
       "      gilded_count          date            timestamp  \n",
       "0                0  1.428090e+09  2015-04-03 19:47:13  \n",
       "1                0  1.428235e+09  2015-04-05 11:55:10  \n",
       "2                0  1.428370e+09  2015-04-07 01:24:42  \n",
       "3                0  1.428385e+09  2015-04-07 05:40:55  \n",
       "4                0  1.428563e+09  2015-04-09 07:03:16  \n",
       "...            ...           ...                  ...  \n",
       "94081            0  1.680377e+09  2023-04-01 19:21:54  \n",
       "94082            0  1.680377e+09  2023-04-01 19:24:55  \n",
       "94083            0  1.680378e+09  2023-04-01 19:38:03  \n",
       "94084            0  1.680378e+09  2023-04-01 19:41:01  \n",
       "94085            0  1.680379e+09  2023-04-01 19:54:23  \n",
       "\n",
       "[94086 rows x 7 columns]"
      ]
     },
     "execution_count": 21,
     "metadata": {},
     "output_type": "execute_result"
    }
   ],
   "source": [
    "below_cut_off_tokens"
   ]
  },
  {
   "cell_type": "code",
   "execution_count": 22,
   "metadata": {},
   "outputs": [],
   "source": [
    "# below_cut_off_tokens.to_csv(f'reddit_cleansed_data.csv', index=False)"
   ]
  }
 ],
 "metadata": {
  "kernelspec": {
   "display_name": "tf-metal",
   "language": "python",
   "name": "python3"
  },
  "language_info": {
   "codemirror_mode": {
    "name": "ipython",
    "version": 3
   },
   "file_extension": ".py",
   "mimetype": "text/x-python",
   "name": "python",
   "nbconvert_exporter": "python",
   "pygments_lexer": "ipython3",
   "version": "3.10.13"
  }
 },
 "nbformat": 4,
 "nbformat_minor": 2
}

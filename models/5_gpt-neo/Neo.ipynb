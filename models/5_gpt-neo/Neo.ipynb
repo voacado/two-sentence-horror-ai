{
  "nbformat": 4,
  "nbformat_minor": 0,
  "metadata": {
    "colab": {
      "provenance": [],
      "machine_shape": "hm",
      "gpuType": "V100"
    },
    "kernelspec": {
      "name": "python3",
      "display_name": "Python 3"
    },
    "language_info": {
      "name": "python"
    },
    "accelerator": "GPU"
  },
  "cells": [
    {
      "cell_type": "code",
      "source": [
        "#!pip install transformers"
      ],
      "metadata": {
        "id": "RyNxroJgpzYn"
      },
      "execution_count": null,
      "outputs": []
    },
    {
      "cell_type": "code",
      "source": [
        "import torch\n",
        "from transformers import GPTNeoForCausalLM, GPT2Tokenizer, Trainer\n",
        "from torch.utils.data import random_split\n",
        "\n",
        "model = GPTNeoForCausalLM.from_pretrained(\"EleutherAI/gpt-neo-125m\").cuda()\n",
        "\n",
        "tokenizer = GPT2Tokenizer.from_pretrained(\"EleutherAI/gpt-neo-125m\",\n",
        "                            bos=\"<BOS>\",\n",
        "                            mid=\"<MID>\",\n",
        "                            eos=\"<EOS>\",\n",
        "                            pad=\"<PAD>\")\n",
        "model.resize_token_embeddings(len(tokenizer))"
      ],
      "metadata": {
        "colab": {
          "base_uri": "https://localhost:8080/"
        },
        "id": "8aPjFNjDpzh3",
        "outputId": "92018ebc-585b-41e4-821f-4b1da57e5f44"
      },
      "execution_count": null,
      "outputs": [
        {
          "output_type": "execute_result",
          "data": {
            "text/plain": [
              "Embedding(50260, 768)"
            ]
          },
          "metadata": {},
          "execution_count": 2
        }
      ]
    },
    {
      "cell_type": "code",
      "execution_count": 34,
      "metadata": {
        "id": "dSI0iRgDJQoR"
      },
      "outputs": [],
      "source": [
        "\n",
        "import pandas as pd\n",
        "\n",
        "df = pd.read_csv(\"reddit_scrape_20_cleansed.csv\")\n",
        "#print(df)\n",
        "# Remove NaN values\n",
        "df = df.dropna()\n",
        "\n",
        "# Create a boolean mask for rows to keep\n",
        "# Text contains \"&amp;#x200B;\" which is a zero-width space (tokenized incorrectly)\n",
        "mask = ~(\n",
        "    df['title'].str.contains('x200B|&amp;#x200B;', na=False) |\n",
        "    df['selftext'].str.contains('x200B|&amp;#x200B;', na=False)\n",
        ")\n",
        "\n",
        "# Apply the mask to filter the DataFrame\n",
        "df = df[mask]\n",
        "\n",
        "# Remove all entries greater than 50 tokens\n",
        "cut_off = 50\n",
        "token_lengths_title = df['title'].apply(lambda x: len(x.split()))\n",
        "token_lengths_selftext = df['selftext'].apply(lambda x: len(x.split()))\n",
        "df = df[(token_lengths_title < cut_off) & (token_lengths_selftext < cut_off)]\n",
        "\n",
        "first = df[\"title\"].tolist()\n",
        "second = df[\"selftext\"].tolist()\n",
        "score = df[\"score\"].tolist()\n",
        "\n",
        "sentences= list(zip(first, second))\n",
        "max_length = 50\n"
      ]
    },
    {
      "cell_type": "code",
      "source": [
        "print(len(sentences))\n",
        "sentences=[]\n",
        "\n",
        "for i in range(len(score)):\n",
        "  if score[i]>=40:\n",
        "    sentences.append((first[i], second[i]))\n",
        "\n",
        "import numpy as np\n",
        "array= np.random.randint(0, 59036, size=2)\n",
        "\n",
        "print(array)\n",
        "print(sentences[array[0]])\n",
        "print(sentences[array[1]])"
      ],
      "metadata": {
        "colab": {
          "base_uri": "https://localhost:8080/"
        },
        "id": "zmFfePFwofYJ",
        "outputId": "ffc184f6-682c-4da9-c8a5-f5b6640aebcd"
      },
      "execution_count": 46,
      "outputs": [
        {
          "output_type": "stream",
          "name": "stdout",
          "text": [
            "59036\n",
            "[2433 5311]\n",
            "('I ate my sister in the womb.', 'Too bad for mom I was seven at the time.')\n",
            "('“You’re so sweet”, I told my wife as she started to rub my back.', '“What’d you say?” She shouted from the other room.')\n"
          ]
        }
      ]
    },
    {
      "cell_type": "code",
      "source": [
        "class TwoSentenceDataset:\n",
        "    def __init__(self, txt_list, tokenizer, max_length):\n",
        "        self.input_ids = []\n",
        "        self.attn_masks = []\n",
        "        self.labels = []\n",
        "        for i in range(len(txt_list)):\n",
        "            encodings_dict = tokenizer(\"<BOS>\" + txt_list[i][0] + \"<MID>\" + txt_list[i][1]  + \"<EOS>\", truncation=True, max_length=max_length, padding=\"max_length\")\n",
        "            self.input_ids.append(torch.tensor(encodings_dict[\"input_ids\"]) )\n",
        "            self.attn_masks.append(torch.tensor(encodings_dict[\"attention_mask\"]))\n",
        "    def __len__(self):\n",
        "        return len(self.input_ids)\n",
        "    def __getitem__(self, idx):\n",
        "        return self.input_ids[idx], self.attn_masks[idx]"
      ],
      "metadata": {
        "id": "Mbf0VN70onyo"
      },
      "execution_count": null,
      "outputs": []
    },
    {
      "cell_type": "code",
      "source": [
        "from torch import nn"
      ],
      "metadata": {
        "id": "nsJ-ptqY7CHa"
      },
      "execution_count": null,
      "outputs": []
    },
    {
      "cell_type": "code",
      "source": [
        "dataset = TwoSentenceDataset(sentences, tokenizer, max_length)"
      ],
      "metadata": {
        "id": "4SiVckYRo6X8"
      },
      "execution_count": null,
      "outputs": []
    },
    {
      "cell_type": "code",
      "source": [
        "dataset.__len__()"
      ],
      "metadata": {
        "colab": {
          "base_uri": "https://localhost:8080/"
        },
        "id": "fR5ZN7dbqN3C",
        "outputId": "73e6365a-750f-4805-bafe-affa69554490"
      },
      "execution_count": null,
      "outputs": [
        {
          "output_type": "execute_result",
          "data": {
            "text/plain": [
              "59036"
            ]
          },
          "metadata": {},
          "execution_count": 8
        }
      ]
    },
    {
      "cell_type": "code",
      "source": [
        "train_size = int(0.9 * len(dataset))\n",
        "train_dataset, test_dataset = random_split(dataset,\n",
        "                            [train_size, len(dataset) - train_size])"
      ],
      "metadata": {
        "id": "uI1d4lPIqBaS"
      },
      "execution_count": null,
      "outputs": []
    },
    {
      "cell_type": "code",
      "source": [
        "from transformers import TrainingArguments"
      ],
      "metadata": {
        "id": "GwQMVm5pBxJr"
      },
      "execution_count": null,
      "outputs": []
    },
    {
      "cell_type": "code",
      "source": [
        "!pip install -U accelerate\n",
        "!pip install -U transformers"
      ],
      "metadata": {
        "id": "2b_3cNqHCtHT",
        "colab": {
          "base_uri": "https://localhost:8080/"
        },
        "outputId": "cb0ed0b4-5dba-4c46-8d95-52e77e196234"
      },
      "execution_count": null,
      "outputs": [
        {
          "output_type": "stream",
          "name": "stdout",
          "text": [
            "Requirement already satisfied: accelerate in /usr/local/lib/python3.10/dist-packages (0.25.0)\n",
            "Requirement already satisfied: numpy>=1.17 in /usr/local/lib/python3.10/dist-packages (from accelerate) (1.23.5)\n",
            "Requirement already satisfied: packaging>=20.0 in /usr/local/lib/python3.10/dist-packages (from accelerate) (23.2)\n",
            "Requirement already satisfied: psutil in /usr/local/lib/python3.10/dist-packages (from accelerate) (5.9.5)\n",
            "Requirement already satisfied: pyyaml in /usr/local/lib/python3.10/dist-packages (from accelerate) (6.0.1)\n",
            "Requirement already satisfied: torch>=1.10.0 in /usr/local/lib/python3.10/dist-packages (from accelerate) (2.1.0+cu118)\n",
            "Requirement already satisfied: huggingface-hub in /usr/local/lib/python3.10/dist-packages (from accelerate) (0.19.4)\n",
            "Requirement already satisfied: safetensors>=0.3.1 in /usr/local/lib/python3.10/dist-packages (from accelerate) (0.4.1)\n",
            "Requirement already satisfied: filelock in /usr/local/lib/python3.10/dist-packages (from torch>=1.10.0->accelerate) (3.13.1)\n",
            "Requirement already satisfied: typing-extensions in /usr/local/lib/python3.10/dist-packages (from torch>=1.10.0->accelerate) (4.5.0)\n",
            "Requirement already satisfied: sympy in /usr/local/lib/python3.10/dist-packages (from torch>=1.10.0->accelerate) (1.12)\n",
            "Requirement already satisfied: networkx in /usr/local/lib/python3.10/dist-packages (from torch>=1.10.0->accelerate) (3.2.1)\n",
            "Requirement already satisfied: jinja2 in /usr/local/lib/python3.10/dist-packages (from torch>=1.10.0->accelerate) (3.1.2)\n",
            "Requirement already satisfied: fsspec in /usr/local/lib/python3.10/dist-packages (from torch>=1.10.0->accelerate) (2023.6.0)\n",
            "Requirement already satisfied: triton==2.1.0 in /usr/local/lib/python3.10/dist-packages (from torch>=1.10.0->accelerate) (2.1.0)\n",
            "Requirement already satisfied: requests in /usr/local/lib/python3.10/dist-packages (from huggingface-hub->accelerate) (2.31.0)\n",
            "Requirement already satisfied: tqdm>=4.42.1 in /usr/local/lib/python3.10/dist-packages (from huggingface-hub->accelerate) (4.66.1)\n",
            "Requirement already satisfied: MarkupSafe>=2.0 in /usr/local/lib/python3.10/dist-packages (from jinja2->torch>=1.10.0->accelerate) (2.1.3)\n",
            "Requirement already satisfied: charset-normalizer<4,>=2 in /usr/local/lib/python3.10/dist-packages (from requests->huggingface-hub->accelerate) (3.3.2)\n",
            "Requirement already satisfied: idna<4,>=2.5 in /usr/local/lib/python3.10/dist-packages (from requests->huggingface-hub->accelerate) (3.6)\n",
            "Requirement already satisfied: urllib3<3,>=1.21.1 in /usr/local/lib/python3.10/dist-packages (from requests->huggingface-hub->accelerate) (2.0.7)\n",
            "Requirement already satisfied: certifi>=2017.4.17 in /usr/local/lib/python3.10/dist-packages (from requests->huggingface-hub->accelerate) (2023.11.17)\n",
            "Requirement already satisfied: mpmath>=0.19 in /usr/local/lib/python3.10/dist-packages (from sympy->torch>=1.10.0->accelerate) (1.3.0)\n",
            "Requirement already satisfied: transformers in /usr/local/lib/python3.10/dist-packages (4.35.2)\n",
            "Requirement already satisfied: filelock in /usr/local/lib/python3.10/dist-packages (from transformers) (3.13.1)\n",
            "Requirement already satisfied: huggingface-hub<1.0,>=0.16.4 in /usr/local/lib/python3.10/dist-packages (from transformers) (0.19.4)\n",
            "Requirement already satisfied: numpy>=1.17 in /usr/local/lib/python3.10/dist-packages (from transformers) (1.23.5)\n",
            "Requirement already satisfied: packaging>=20.0 in /usr/local/lib/python3.10/dist-packages (from transformers) (23.2)\n",
            "Requirement already satisfied: pyyaml>=5.1 in /usr/local/lib/python3.10/dist-packages (from transformers) (6.0.1)\n",
            "Requirement already satisfied: regex!=2019.12.17 in /usr/local/lib/python3.10/dist-packages (from transformers) (2023.6.3)\n",
            "Requirement already satisfied: requests in /usr/local/lib/python3.10/dist-packages (from transformers) (2.31.0)\n",
            "Requirement already satisfied: tokenizers<0.19,>=0.14 in /usr/local/lib/python3.10/dist-packages (from transformers) (0.15.0)\n",
            "Requirement already satisfied: safetensors>=0.3.1 in /usr/local/lib/python3.10/dist-packages (from transformers) (0.4.1)\n",
            "Requirement already satisfied: tqdm>=4.27 in /usr/local/lib/python3.10/dist-packages (from transformers) (4.66.1)\n",
            "Requirement already satisfied: fsspec>=2023.5.0 in /usr/local/lib/python3.10/dist-packages (from huggingface-hub<1.0,>=0.16.4->transformers) (2023.6.0)\n",
            "Requirement already satisfied: typing-extensions>=3.7.4.3 in /usr/local/lib/python3.10/dist-packages (from huggingface-hub<1.0,>=0.16.4->transformers) (4.5.0)\n",
            "Requirement already satisfied: charset-normalizer<4,>=2 in /usr/local/lib/python3.10/dist-packages (from requests->transformers) (3.3.2)\n",
            "Requirement already satisfied: idna<4,>=2.5 in /usr/local/lib/python3.10/dist-packages (from requests->transformers) (3.6)\n",
            "Requirement already satisfied: urllib3<3,>=1.21.1 in /usr/local/lib/python3.10/dist-packages (from requests->transformers) (2.0.7)\n",
            "Requirement already satisfied: certifi>=2017.4.17 in /usr/local/lib/python3.10/dist-packages (from requests->transformers) (2023.11.17)\n"
          ]
        }
      ]
    },
    {
      "cell_type": "code",
      "source": [
        "import accelerate\n",
        "import transformers\n",
        "\n",
        "transformers.__version__, accelerate.__version__"
      ],
      "metadata": {
        "id": "NeE8--H8jfYY",
        "colab": {
          "base_uri": "https://localhost:8080/"
        },
        "outputId": "499bc3f1-37bb-4f7d-8009-fb9c9b93bfce"
      },
      "execution_count": null,
      "outputs": [
        {
          "output_type": "execute_result",
          "data": {
            "text/plain": [
              "('4.35.2', '0.25.0')"
            ]
          },
          "metadata": {},
          "execution_count": 12
        }
      ]
    },
    {
      "cell_type": "code",
      "source": [
        "trainingArg = TrainingArguments(num_train_epochs=4,\n",
        "                                  logging_steps=5000,\n",
        "                                  save_steps=5000,\n",
        "                                  per_device_train_batch_size=4,\n",
        "                                  per_device_eval_batch_size=4,\n",
        "                                  warmup_steps=100,\n",
        "                                  weight_decay=0.01,)"
      ],
      "metadata": {
        "id": "Qh_Y9m7MqLF2"
      },
      "execution_count": null,
      "outputs": []
    },
    {
      "cell_type": "code",
      "source": [
        "trainer = Trainer(model=model, args=trainingArg,\n",
        "                  train_dataset=train_dataset,\n",
        "                  eval_dataset=test_dataset,\n",
        "                  data_collator=lambda data:\n",
        "              {\"input_ids\": torch.stack([f[0] for f in data]),\n",
        "               \"attention_mask\": torch.stack([f[1] for f in data]),\n",
        "               \"labels\": torch.stack([f[0] for f in data])})\n",
        "trainer.train()\n"
      ],
      "metadata": {
        "id": "k_pTU0C4rUrj",
        "colab": {
          "base_uri": "https://localhost:8080/",
          "height": 423
        },
        "outputId": "b370135d-59a7-40dc-cbba-c489feb4d055"
      },
      "execution_count": null,
      "outputs": [
        {
          "output_type": "display_data",
          "data": {
            "text/plain": [
              "<IPython.core.display.HTML object>"
            ],
            "text/html": [
              "\n",
              "    <div>\n",
              "      \n",
              "      <progress value='53132' max='53132' style='width:300px; height:20px; vertical-align: middle;'></progress>\n",
              "      [53132/53132 47:02, Epoch 4/4]\n",
              "    </div>\n",
              "    <table border=\"1\" class=\"dataframe\">\n",
              "  <thead>\n",
              " <tr style=\"text-align: left;\">\n",
              "      <th>Step</th>\n",
              "      <th>Training Loss</th>\n",
              "    </tr>\n",
              "  </thead>\n",
              "  <tbody>\n",
              "    <tr>\n",
              "      <td>5000</td>\n",
              "      <td>2.690800</td>\n",
              "    </tr>\n",
              "    <tr>\n",
              "      <td>10000</td>\n",
              "      <td>2.600800</td>\n",
              "    </tr>\n",
              "    <tr>\n",
              "      <td>15000</td>\n",
              "      <td>2.486800</td>\n",
              "    </tr>\n",
              "    <tr>\n",
              "      <td>20000</td>\n",
              "      <td>2.343200</td>\n",
              "    </tr>\n",
              "    <tr>\n",
              "      <td>25000</td>\n",
              "      <td>2.362100</td>\n",
              "    </tr>\n",
              "    <tr>\n",
              "      <td>30000</td>\n",
              "      <td>2.206900</td>\n",
              "    </tr>\n",
              "    <tr>\n",
              "      <td>35000</td>\n",
              "      <td>2.152700</td>\n",
              "    </tr>\n",
              "    <tr>\n",
              "      <td>40000</td>\n",
              "      <td>2.159500</td>\n",
              "    </tr>\n",
              "    <tr>\n",
              "      <td>45000</td>\n",
              "      <td>1.990300</td>\n",
              "    </tr>\n",
              "    <tr>\n",
              "      <td>50000</td>\n",
              "      <td>1.993200</td>\n",
              "    </tr>\n",
              "  </tbody>\n",
              "</table><p>"
            ]
          },
          "metadata": {}
        },
        {
          "output_type": "execute_result",
          "data": {
            "text/plain": [
              "TrainOutput(global_step=53132, training_loss=2.280622987029944, metrics={'train_runtime': 2823.0567, 'train_samples_per_second': 75.283, 'train_steps_per_second': 18.821, 'total_flos': 5421271678156800.0, 'train_loss': 2.280622987029944, 'epoch': 4.0})"
            ]
          },
          "metadata": {},
          "execution_count": 14
        }
      ]
    },
    {
      "cell_type": "code",
      "source": [
        "import matplotlib.pyplot as plt\n",
        "x=[5000, 10000, 15000, 20000, 25000, 30000, 35000, 40000, 45000, 50000]\n",
        "y=[2.690800, 2.600800, 2.486800, 2.343200, 2.362100, 2.206900, 2.152700, 2.159500, 1.990300, 1.993200]\n",
        "plt.plot(x,y)\n",
        "plt.xlabel(\"Logging Steps\")\n",
        "plt.ylabel(\"Training Loss\")\n",
        "plt.show()"
      ],
      "metadata": {
        "id": "CGOMNsHnVmAN",
        "colab": {
          "base_uri": "https://localhost:8080/",
          "height": 449
        },
        "outputId": "964f4cdb-df60-4ce8-92e3-d996a8847633"
      },
      "execution_count": 28,
      "outputs": [
        {
          "output_type": "display_data",
          "data": {
            "text/plain": [
              "<Figure size 640x480 with 1 Axes>"
            ],
            "image/png": "[encoded data removed]"
          },
          "metadata": {}
        }
      ]
    },
    {
      "cell_type": "code",
      "source": [
        "generated = tokenizer(\"<BOS> \", return_tensors=\"pt\").input_ids.cuda()\n",
        "outputs = model.generate(generated,\n",
        "                 do_sample=True,\n",
        "                 max_length=max_length,\n",
        "                 num_return_sequences=5)\n",
        "for i, output in enumerate(outputs):\n",
        "    print(f\"{i}: {tokenizer.decode(output, skip_special_tokens=True)}\")"
      ],
      "metadata": {
        "id": "rBqWKmC3rc6m",
        "colab": {
          "base_uri": "https://localhost:8080/"
        },
        "outputId": "b1adb987-3834-42de-959a-b5f63927b60d"
      },
      "execution_count": 57,
      "outputs": [
        {
          "output_type": "stream",
          "name": "stderr",
          "text": [
            "The attention mask and the pad token id were not set. As a consequence, you may observe unexpected behavior. Please pass your input's `attention_mask` to obtain reliable results.\n",
            "Setting `pad_token_id` to `eos_token_id`:50256 for open-end generation.\n"
          ]
        },
        {
          "output_type": "stream",
          "name": "stdout",
          "text": [
            "0:    \n",
            "\n",
            "There is a reason why I'm stuck in a room with the mirror.<MID>But he's the one who made it look.\n",
            "1:    while walking to school, my classmates exclaimed \"Oh god, they're screaming!\" <MID>That's when I realized I should have locked my phone...\n",
            "2:       \n",
            "\n",
            "The child cried from yet another empty room, unable to scream.<MID>      \n",
            "\n",
            "He opened the door and realized that, after all, his father was in the living\n",
            "3:                                                  \n",
            "4:    \n",
            "\n",
            "She put her hands around my beautiful body and whispered \"Honey let's get the shower ready!\"<MID>I felt the shower drain for just seconds and the water didn't make sense.\n"
          ]
        }
      ]
    }
  ]
}